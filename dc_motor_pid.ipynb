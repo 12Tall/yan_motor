{
 "cells": [
  {
   "attachments": {},
   "cell_type": "markdown",
   "metadata": {},
   "source": [
    "# 直流电机模型   \n",
    "\n",
    "建立直流电机的模型，并将仿真结果写入`result.csv` 文件"
   ]
  },
  {
   "cell_type": "code",
   "execution_count": 51,
   "metadata": {},
   "outputs": [],
   "source": [
    "import csv\n",
    "from src.rk4 import  Module  \n",
    "\n",
    "# 电机参数\n",
    "J = 0.01\n",
    "b = 0.1\n",
    "Ke = 0.01\n",
    "Kt = 0.01\n",
    "R = 1\n",
    "L = 0.5  \n",
    "\n",
    "# PID 参数\n",
    "Kp = 75 \n",
    "Ki = 100 \n",
    "Kd = 10  \n",
    "r = 1  # 给定输入\n",
    "\n",
    "motor = Module(end=4, h=0.001)\n",
    "\n",
    "# 转角\n",
    "theta = motor.createState(name=\"theta\", func=lambda: omega)\n",
    "# 转速\n",
    "omega = motor.createState(name=\"omega\", func=lambda: -b/J*omega + Kt/J*i )\n",
    "# 角加速度\n",
    "alpha = motor.createState(name=\"alpha\", func=lambda: -b/J*alpha + Kt/J*i.prime())  \n",
    "# 电枢电流\n",
    "i = motor.createState(name=\"i\", func=lambda: -Ke/L*omega  -R/L*i + u/L)  \n",
    "\n",
    "# 控制器部分，现在是作为电机的一部分，理论上应该单独拿出来作为一个模块的\n",
    "# 误差e = r-omega\n",
    "e = motor.createState(name=\"e\", func=lambda: -alpha, init_value=r)  \n",
    "# 控制器输出电压\n",
    "u = motor.createState(name=\"u\", func=lambda: Kp*e.prime() + Ki*e - Kd*alpha.prime(), init_value=Kp*e)\n",
    "\n",
    "\n",
    "my_array = motor.run()\n",
    "\n",
    "with open('result.csv', 'w', newline='') as f:\n",
    "    writer = csv.writer(f)\n",
    "    writer.writerows(my_array)\n"
   ]
  },
  {
   "attachments": {},
   "cell_type": "markdown",
   "metadata": {},
   "source": [
    "读取`result.csv` 结果，并绘制曲线图。结果的大致趋势是一样的，可是，系统的响应时间有些滞后。`simulink` 在`0.674s` 时达到最大值。    "
   ]
  },
  {
   "cell_type": "code",
   "execution_count": 52,
   "metadata": {},
   "outputs": [
    {
     "data": {
      "image/png": "[encoded data removed]",
      "text/plain": [
       "<Figure size 432x288 with 1 Axes>"
      ]
     },
     "metadata": {
      "needs_background": "light"
     },
     "output_type": "display_data"
    }
   ],
   "source": [
    "import pandas as pd\n",
    "import matplotlib.pyplot as plt\n",
    "\n",
    "# 读取 CSV 文件\n",
    "data = pd.read_csv('result.csv')\n",
    "\n",
    "# plt.plot(data[\"_time\"], data['module_i'], label=\"i\")\n",
    "# plt.plot(data[\"_time\"], data['module_theta'], label=\"theta\")\n",
    "plt.plot(data[\"_time\"], data['module_omega'], label=\"omega\")\n",
    "# plt.plot(data[\"_time\"], data['module_alpha'], label=\"alpha\")\n",
    "# plt.plot(data[\"_time\"], data['module_e'], label=\"e\")\n",
    "# plt.plot(data[\"_time\"], data['module_u'], label=\"u\")\n",
    "\n",
    "plt.legend()\n",
    "plt.show()"
   ]
  },
  {
   "attachments": {},
   "cell_type": "markdown",
   "metadata": {},
   "source": [
    "## 关于PID 模块初始值的问题  \n",
    "\n",
    "考虑实际情况下，PID 模块的最初输出值应该是0 吗？"
   ]
  }
 ],
 "metadata": {
  "kernelspec": {
   "display_name": "Python 3",
   "language": "python",
   "name": "python3"
  },
  "language_info": {
   "codemirror_mode": {
    "name": "ipython",
    "version": 3
   },
   "file_extension": ".py",
   "mimetype": "text/x-python",
   "name": "python",
   "nbconvert_exporter": "python",
   "pygments_lexer": "ipython3",
   "version": "3.8.10"
  },
  "orig_nbformat": 4
 },
 "nbformat": 4,
 "nbformat_minor": 2
}
